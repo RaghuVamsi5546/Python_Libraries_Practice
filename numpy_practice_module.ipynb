{
 "cells": [
  {
   "cell_type": "code",
   "execution_count": 2,
   "id": "32bb59ec",
   "metadata": {},
   "outputs": [],
   "source": [
    "import numpy as np\n",
    "import math\n",
    "from random import randint"
   ]
  },
  {
   "cell_type": "markdown",
   "id": "8fc53dc8",
   "metadata": {},
   "source": [
    "# Module: NumPy Assignments\n",
    "## Lesson: NumPy\n",
    "### Assignment 1: Array Creation and Manipulation\n",
    "\n",
    "1. Create a NumPy array of shape (5, 5) filled with random integers between 1 and 20. Replace all the elements in the third column with 1."
   ]
  },
  {
   "cell_type": "code",
   "execution_count": 3,
   "id": "ccf8d0f7",
   "metadata": {},
   "outputs": [
    {
     "name": "stdout",
     "output_type": "stream",
     "text": [
      "Array: \n",
      " [[12  9 18 19  6]\n",
      " [ 1  2 11 14 13]\n",
      " [ 9  9 16 17 16]\n",
      " [13 12  6  2 15]\n",
      " [ 8  3 19  1  6]]\n",
      "Modified Array: \n",
      " [[12  9  1 19  6]\n",
      " [ 1  2  1 14 13]\n",
      " [ 9  9  1 17 16]\n",
      " [13 12  1  2 15]\n",
      " [ 8  3  1  1  6]]\n"
     ]
    }
   ],
   "source": [
    "x=np.random.randint(1,20,size=(5,5))\n",
    "print(f\"Array: \\n\",x)\n",
    "\n",
    "x[:,2]=1\n",
    "\n",
    "print(f\"Modified Array: \\n\",x)"
   ]
  },
  {
   "cell_type": "markdown",
   "id": "a9f2f566",
   "metadata": {},
   "source": [
    "2. Create a NumPy array of shape (4, 4) with values from 1 to 16. Replace the diagonal elements with 0.\n"
   ]
  },
  {
   "cell_type": "code",
   "execution_count": 4,
   "id": "14858d94",
   "metadata": {},
   "outputs": [
    {
     "name": "stdout",
     "output_type": "stream",
     "text": [
      "Array: \n",
      " [[ 1  2  3  4]\n",
      " [ 5  6  7  8]\n",
      " [ 9 10 11 12]\n",
      " [13 14 15 16]]\n",
      "Diagonal 0 Array: \n",
      " [[ 0  2  3  4]\n",
      " [ 5  0  7  8]\n",
      " [ 9 10  0 12]\n",
      " [13 14 15  0]]\n"
     ]
    }
   ],
   "source": [
    "y=np.arange(1,17,1).reshape(4,4)\n",
    "print(f\"Array: \\n\",y)\n",
    "np.fill_diagonal(y,0)\n",
    "print(f\"Diagonal 0 Array: \\n\",y)"
   ]
  },
  {
   "cell_type": "markdown",
   "id": "d67e984f",
   "metadata": {},
   "source": [
    "\n",
    "### Assignment 2: Array Indexing and Slicing\n",
    "\n",
    "1. Create a NumPy array of shape (6, 6) with values from 1 to 36. Extract the sub-array consisting of the 3rd to 5th rows and 2nd to 4th columns.\n"
   ]
  },
  {
   "cell_type": "code",
   "execution_count": 5,
   "id": "909c0d91",
   "metadata": {},
   "outputs": [
    {
     "name": "stdout",
     "output_type": "stream",
     "text": [
      "Array: \n",
      " [[ 1  2  3  4  5  6]\n",
      " [ 7  8  9 10 11 12]\n",
      " [13 14 15 16 17 18]\n",
      " [19 20 21 22 23 24]\n",
      " [25 26 27 28 29 30]\n",
      " [31 32 33 34 35 36]]\n",
      "Sub-Array: \n",
      " [[14 15 16]\n",
      " [20 21 22]\n",
      " [26 27 28]]\n"
     ]
    }
   ],
   "source": [
    "x=np.arange(1,37).reshape(6,6)\n",
    "print(f\"Array: \\n\",x)\n",
    "\n",
    "y=x[2:5,1:4]\n",
    "print(f\"Sub-Array: \\n\",y)"
   ]
  },
  {
   "cell_type": "markdown",
   "id": "9ed11445",
   "metadata": {},
   "source": [
    "2. Create a NumPy array of shape (5, 5) with random integers. Extract the elements on the border.\n"
   ]
  },
  {
   "cell_type": "code",
   "execution_count": 6,
   "id": "d22941a6",
   "metadata": {},
   "outputs": [
    {
     "name": "stdout",
     "output_type": "stream",
     "text": [
      "[[11  3 12  7 10]\n",
      " [19  1 20 20  5]\n",
      " [ 1  5 20  2 14]\n",
      " [ 3  2  4  7 18]\n",
      " [12 14  1 16  6]]\n",
      "\n",
      "\n",
      "[11  3 12  7 10 12 14  1 16  6 19  1  3  5 14 18]\n"
     ]
    }
   ],
   "source": [
    "a=np.random.randint(1,21,size=(5,5))\n",
    "print(a)\n",
    "print(\"\\n\")\n",
    "p=a[0,:]\n",
    "b=a[-1,:]\n",
    "k=a[1:-1,0]\n",
    "s=a[1:-1,-1]\n",
    "\n",
    "o=np.concatenate((p,b,k,s))\n",
    "print(o)"
   ]
  },
  {
   "cell_type": "markdown",
   "id": "e18aea72",
   "metadata": {},
   "source": [
    "\n",
    "### Assignment 3: Array Operations\n",
    "\n",
    "1. Create two NumPy arrays of shape (3, 4) filled with random integers. Perform element-wise addition, subtraction, multiplication, and division.\n"
   ]
  },
  {
   "cell_type": "code",
   "execution_count": 7,
   "id": "4e0fd0c1",
   "metadata": {},
   "outputs": [
    {
     "name": "stdout",
     "output_type": "stream",
     "text": [
      "Array1:\n",
      " [[9 1 5 6]\n",
      " [8 2 1 8]\n",
      " [9 9 9 4]]\n",
      "Array2:\n",
      " [[5 1 3 1]\n",
      " [3 2 8 3]\n",
      " [5 3 1 5]]\n",
      "Addition:\n",
      " [[14  2  8  7]\n",
      " [11  4  9 11]\n",
      " [14 12 10  9]]\n",
      "Subtraction:\n",
      " [[ 4  0  2  5]\n",
      " [ 5  0 -7  5]\n",
      " [ 4  6  8 -1]]\n",
      "Multiplication:\n",
      " [[45  1 15  6]\n",
      " [24  4  8 24]\n",
      " [45 27  9 20]]\n",
      "Divison:\n",
      " [[1.8        1.         1.66666667 6.        ]\n",
      " [2.66666667 1.         0.125      2.66666667]\n",
      " [1.8        3.         9.         0.8       ]]\n"
     ]
    }
   ],
   "source": [
    "arr1=np.random.randint(1,10,size=(3,4))\n",
    "arr2=np.random.randint(1,10,size=(3,4))\n",
    "\n",
    "print(f\"Array1:\\n\",arr1)\n",
    "print(f\"Array2:\\n\",arr2)\n",
    "print(f\"Addition:\\n\",arr1+arr2)\n",
    "print(f\"Subtraction:\\n\",arr1-arr2)\n",
    "print(f\"Multiplication:\\n\",arr1*arr2)\n",
    "print(f\"Divison:\\n\",arr1/arr2)"
   ]
  },
  {
   "cell_type": "markdown",
   "id": "280b0c1a",
   "metadata": {},
   "source": [
    "2. Create a NumPy array of shape (4, 4) with values from 1 to 16. Compute the row-wise and column-wise sum.\n"
   ]
  },
  {
   "cell_type": "code",
   "execution_count": 8,
   "id": "a8b1011b",
   "metadata": {},
   "outputs": [
    {
     "name": "stdout",
     "output_type": "stream",
     "text": [
      "[[ 1  2  3  4]\n",
      " [ 5  6  7  8]\n",
      " [ 9 10 11 12]\n",
      " [13 14 15 16]]\n",
      "Row wise sum:\n",
      " [[10]\n",
      " [26]\n",
      " [42]\n",
      " [58]]\n",
      "Column wise sum: [28 32 36 40]\n"
     ]
    }
   ],
   "source": [
    "new=np.arange(1,17).reshape(4,4)\n",
    "print(new)\n",
    "\n",
    "row_wise=np.sum(new,axis=1).reshape(4,1)\n",
    "print(f\"Row wise sum:\\n\",row_wise)\n",
    "column_size=np.sum(new,axis=0)\n",
    "print(f\"Column wise sum:\",column_size)"
   ]
  },
  {
   "cell_type": "markdown",
   "id": "7ad1ccd2",
   "metadata": {},
   "source": [
    "\n",
    "### Assignment 4: Statistical Operations\n",
    "\n",
    "1. Create a NumPy array of shape (5, 5) filled with random integers. Compute the mean, median, standard deviation, and variance of the array.\n"
   ]
  },
  {
   "cell_type": "code",
   "execution_count": 9,
   "id": "6c2e4314",
   "metadata": {},
   "outputs": [
    {
     "name": "stdout",
     "output_type": "stream",
     "text": [
      "[[30  6 37 23 44]\n",
      " [13 25  6 45 14]\n",
      " [30 14 33  1 11]\n",
      " [ 5 28  8 42 18]\n",
      " [12  5 23 33 23]]\n",
      "Mean 21.16\n",
      "Median 23.0\n",
      "Standard deviation 12.978998420525368\n",
      "Variance 168.4544\n"
     ]
    }
   ],
   "source": [
    "stats=np.random.randint(1,50,size=(5,5))\n",
    "print(stats)\n",
    "print(f\"Mean\",np.mean(stats))\n",
    "print(f\"Median\",np.median(stats))\n",
    "print(f\"Standard deviation\",np.std(stats))\n",
    "print(f\"Variance\",np.var(stats))"
   ]
  },
  {
   "cell_type": "markdown",
   "id": "9848d678",
   "metadata": {},
   "source": [
    "2. Create a NumPy array of shape (3, 3) with values from 1 to 9. Normalize the array (i.e., scale the values to have a mean of 0 and a standard deviation of 1).\n",
    "\n",
    "### Assignment 5: Broadcasting\n",
    "\n",
    "1. Create a NumPy array of shape (3, 3) filled with random integers. Add a 1D array of shape (3,) to each row of the 2D array using broadcasting.\n",
    "2. Create a NumPy array of shape (4, 4) filled with random integers. Subtract a 1D array of shape (4,) from each column of the 2D array using broadcasting.\n",
    "\n",
    "### Assignment 6: Linear Algebra\n",
    "\n",
    "1. Create a NumPy array of shape (3, 3) representing a matrix. Compute its determinant, inverse, and eigenvalues.\n",
    "2. Create two NumPy arrays of shape (2, 3) and (3, 2). Perform matrix multiplication on these arrays.\n",
    "\n",
    "### Assignment 7: Advanced Array Manipulation\n",
    "\n",
    "1. Create a NumPy array of shape (3, 3) with values from 1 to 9. Reshape the array to shape (1, 9) and then to shape (9, 1).\n"
   ]
  },
  {
   "cell_type": "code",
   "execution_count": 14,
   "id": "b1f289bc",
   "metadata": {},
   "outputs": [
    {
     "name": "stdout",
     "output_type": "stream",
     "text": [
      "Array: \n",
      " [[1 2 3]\n",
      " [4 5 6]\n",
      " [7 8 9]]\n",
      "[[1 2 3 4 5 6 7 8 9]]\n",
      "[[1]\n",
      " [2]\n",
      " [3]\n",
      " [4]\n",
      " [5]\n",
      " [6]\n",
      " [7]\n",
      " [8]\n",
      " [9]]\n"
     ]
    }
   ],
   "source": [
    "first=np.arange(1,10).reshape(3,3)\n",
    "print(f\"Array: \\n\",first)\n",
    "print(first.reshape(1,9))\n",
    "print(first.reshape(9,1))"
   ]
  },
  {
   "cell_type": "markdown",
   "id": "e10358fa",
   "metadata": {},
   "source": [
    "2. Create a NumPy array of shape (5, 5) filled with random integers. Flatten the array and then reshape it back to (5, 5).\n"
   ]
  },
  {
   "cell_type": "code",
   "execution_count": 19,
   "id": "dd475171",
   "metadata": {},
   "outputs": [
    {
     "name": "stdout",
     "output_type": "stream",
     "text": [
      "Array: \n",
      " [[10  5 16  5 10]\n",
      " [19 11 15  7 12]\n",
      " [ 9 12 16 17  2]\n",
      " [18 19  8 18  8]\n",
      " [13 11  6 10  7]]\n",
      "Flatten array:\n",
      " [[10  5 16  5 10 19 11 15  7 12  9 12 16 17  2 18 19  8 18  8 13 11  6 10\n",
      "   7]]\n",
      "Reshaped array:\n",
      " [[10  5 16  5 10]\n",
      " [19 11 15  7 12]\n",
      " [ 9 12 16 17  2]\n",
      " [18 19  8 18  8]\n",
      " [13 11  6 10  7]]\n"
     ]
    }
   ],
   "source": [
    "first=np.random.randint(1,20,size=(5,5))\n",
    "print(f\"Array: \\n\",first)\n",
    "second=first.reshape(1,25)\n",
    "print(f\"Flatten array:\\n\",second)\n",
    "\n",
    "'''\n",
    "second=first.flatten()   this too works\n",
    "'''\n",
    "\n",
    "last=second.reshape(5,5)\n",
    "print(f\"Reshaped array:\\n\",last)"
   ]
  },
  {
   "cell_type": "markdown",
   "id": "aff9b662",
   "metadata": {},
   "source": [
    "\n",
    "### Assignment 8: Fancy Indexing and Boolean Indexing\n",
    "\n",
    "1. Create a NumPy array of shape (5, 5) filled with random integers. Use fancy indexing to extract the elements at the corners of the array.\n"
   ]
  },
  {
   "cell_type": "code",
   "execution_count": 26,
   "id": "2a0fbdc0",
   "metadata": {},
   "outputs": [
    {
     "name": "stdout",
     "output_type": "stream",
     "text": [
      "[[ 6 12 17  3  5]\n",
      " [10  1  5 10  2]\n",
      " [ 8 14  1  7  7]\n",
      " [12 14  6  4 15]\n",
      " [ 8  2 11 12  2]]\n",
      "6\n",
      "5\n",
      "8\n",
      "2\n",
      "[6 5 8 2]\n"
     ]
    }
   ],
   "source": [
    "start=np.random.randint(1,20,size=(5,5))\n",
    "print(start)\n",
    "print(start[0,0])\n",
    "print(start[0,-1])\n",
    "print(start[-1,0])\n",
    "print(start[-1,-1])\n",
    "\n",
    "'''\n",
    "this is a new type gives automatic list typo\n",
    "corners = array[[0, 0, -1, -1], [0, -1, 0, -1]]  ##fancy indexing\n",
    "'''\n",
    "\n",
    "corners = start[[0, 0, -1, -1], [0, -1, 0, -1]]  \n",
    "print(corners)"
   ]
  },
  {
   "cell_type": "markdown",
   "id": "6293def9",
   "metadata": {},
   "source": [
    "2. Create a NumPy array of shape (4, 4) filled with random integers. Use boolean indexing to set all elements greater than 10 to 10.\n"
   ]
  },
  {
   "cell_type": "code",
   "execution_count": 38,
   "id": "cb161035",
   "metadata": {},
   "outputs": [
    {
     "name": "stdout",
     "output_type": "stream",
     "text": [
      "Array :\n",
      " [[ 6  2  1  1]\n",
      " [ 8 11 17  7]\n",
      " [ 4  9  1  6]\n",
      " [12 17 10 17]]\n",
      "[[False False False False]\n",
      " [False  True  True False]\n",
      " [False False False False]\n",
      " [ True  True False  True]]\n",
      "[11 17 12 17 17]\n"
     ]
    }
   ],
   "source": [
    "old=np.random.randint(1,20,size=(4,4))\n",
    "print(f\"Array :\\n\",old)\n",
    "\n",
    "new=old>10\n",
    "print(new)\n",
    "\n",
    "new_list=old[new]\n",
    "print(new_list)"
   ]
  },
  {
   "cell_type": "markdown",
   "id": "b192a62b",
   "metadata": {},
   "source": [
    "\n",
    "### Assignment 9: Structured Arrays\n",
    "\n",
    "1. Create a structured array with fields 'name' (string), 'age' (integer), and 'weight' (float). Add some data and sort the array by age.\n",
    "2. Create a structured array with fields 'x' and 'y' (both integers). Add some data and compute the Euclidean distance between each pair of points.\n",
    "\n",
    "### Assignment 10: Masked Arrays\n",
    "\n",
    "1. Create a masked array of shape (4, 4) with random integers and mask the elements greater than 10. Compute the sum of the unmasked elements.\n",
    "2. Create a masked array of shape (3, 3) with random integers and mask the diagonal elements. Replace the masked elements with the mean of the unmasked elements.\n"
   ]
  },
  {
   "cell_type": "code",
   "execution_count": null,
   "metadata": {},
   "outputs": [],
   "source": []
  }
 ],
 "metadata": {
  "kernelspec": {
   "display_name": "Python 3",
   "language": "python",
   "name": "python3"
  },
  "language_info": {
   "codemirror_mode": {
    "name": "ipython",
    "version": 3
   },
   "file_extension": ".py",
   "mimetype": "text/x-python",
   "name": "python",
   "nbconvert_exporter": "python",
   "pygments_lexer": "ipython3",
   "version": "3.12.4"
  }
 },
 "nbformat": 4,
 "nbformat_minor": 5
}
