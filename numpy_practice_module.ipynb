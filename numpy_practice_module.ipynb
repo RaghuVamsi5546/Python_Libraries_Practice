{
 "cells": [
  {
   "cell_type": "code",
   "execution_count": 2,
   "id": "32bb59ec",
   "metadata": {},
   "outputs": [],
   "source": [
    "import numpy as np\n",
    "import math\n",
    "from random import randint"
   ]
  },
  {
   "cell_type": "markdown",
   "id": "8fc53dc8",
   "metadata": {},
   "source": [
    "# Module: NumPy Assignments\n",
    "## Lesson: NumPy\n",
    "### Assignment 1: Array Creation and Manipulation\n",
    "\n",
    "1. Create a NumPy array of shape (5, 5) filled with random integers between 1 and 20. Replace all the elements in the third column with 1."
   ]
  },
  {
   "cell_type": "code",
   "execution_count": 3,
   "id": "ccf8d0f7",
   "metadata": {},
   "outputs": [
    {
     "name": "stdout",
     "output_type": "stream",
     "text": [
      "Array: \n",
      " [[ 2 17 17  1 10]\n",
      " [ 6  9  4  4 15]\n",
      " [ 2 10  4 12  2]\n",
      " [19  4  2 16 18]\n",
      " [11 11 16 11 18]]\n",
      "Modified Array: \n",
      " [[ 2 17  1  1 10]\n",
      " [ 6  9  1  4 15]\n",
      " [ 2 10  1 12  2]\n",
      " [19  4  1 16 18]\n",
      " [11 11  1 11 18]]\n"
     ]
    }
   ],
   "source": [
    "x=np.random.randint(1,20,size=(5,5))\n",
    "print(f\"Array: \\n\",x)\n",
    "\n",
    "x[:,2]=1\n",
    "\n",
    "print(f\"Modified Array: \\n\",x)"
   ]
  },
  {
   "cell_type": "markdown",
   "id": "a9f2f566",
   "metadata": {},
   "source": [
    "2. Create a NumPy array of shape (4, 4) with values from 1 to 16. Replace the diagonal elements with 0.\n"
   ]
  },
  {
   "cell_type": "code",
   "execution_count": 4,
   "id": "14858d94",
   "metadata": {},
   "outputs": [
    {
     "name": "stdout",
     "output_type": "stream",
     "text": [
      "Array: \n",
      " [[ 1  2  3  4]\n",
      " [ 5  6  7  8]\n",
      " [ 9 10 11 12]\n",
      " [13 14 15 16]]\n",
      "Diagonal 0 Array: \n",
      " [[ 0  2  3  4]\n",
      " [ 5  0  7  8]\n",
      " [ 9 10  0 12]\n",
      " [13 14 15  0]]\n"
     ]
    }
   ],
   "source": [
    "y=np.arange(1,17,1).reshape(4,4)\n",
    "print(f\"Array: \\n\",y)\n",
    "np.fill_diagonal(y,0)\n",
    "print(f\"Diagonal 0 Array: \\n\",y)"
   ]
  },
  {
   "cell_type": "markdown",
   "id": "d67e984f",
   "metadata": {},
   "source": [
    "\n",
    "### Assignment 2: Array Indexing and Slicing\n",
    "\n",
    "1. Create a NumPy array of shape (6, 6) with values from 1 to 36. Extract the sub-array consisting of the 3rd to 5th rows and 2nd to 4th columns.\n"
   ]
  },
  {
   "cell_type": "code",
   "execution_count": 5,
   "id": "909c0d91",
   "metadata": {},
   "outputs": [
    {
     "name": "stdout",
     "output_type": "stream",
     "text": [
      "Array: \n",
      " [[ 1  2  3  4  5  6]\n",
      " [ 7  8  9 10 11 12]\n",
      " [13 14 15 16 17 18]\n",
      " [19 20 21 22 23 24]\n",
      " [25 26 27 28 29 30]\n",
      " [31 32 33 34 35 36]]\n",
      "Sub-Array: \n",
      " [[14 15 16]\n",
      " [20 21 22]\n",
      " [26 27 28]]\n"
     ]
    }
   ],
   "source": [
    "x=np.arange(1,37).reshape(6,6)\n",
    "print(f\"Array: \\n\",x)\n",
    "\n",
    "y=x[2:5,1:4]\n",
    "print(f\"Sub-Array: \\n\",y)"
   ]
  },
  {
   "cell_type": "markdown",
   "id": "9ed11445",
   "metadata": {},
   "source": [
    "2. Create a NumPy array of shape (5, 5) with random integers. Extract the elements on the border.\n"
   ]
  },
  {
   "cell_type": "code",
   "execution_count": 6,
   "id": "d22941a6",
   "metadata": {},
   "outputs": [
    {
     "name": "stdout",
     "output_type": "stream",
     "text": [
      "[[17 13  3 12  5]\n",
      " [20 14  2 11 20]\n",
      " [19 14 10  6 15]\n",
      " [ 8  3 16 16 15]\n",
      " [ 5 17  3 10 11]]\n",
      "\n",
      "\n",
      "[17 13  3 12  5  5 17  3 10 11 20 19  8 20 15 15]\n"
     ]
    }
   ],
   "source": [
    "a=np.random.randint(1,21,size=(5,5))\n",
    "print(a)\n",
    "print(\"\\n\")\n",
    "p=a[0,:]\n",
    "b=a[-1,:]\n",
    "k=a[1:-1,0]\n",
    "s=a[1:-1,-1]\n",
    "\n",
    "o=np.concatenate((p,b,k,s))\n",
    "print(o)"
   ]
  },
  {
   "cell_type": "markdown",
   "id": "e18aea72",
   "metadata": {},
   "source": [
    "\n",
    "### Assignment 3: Array Operations\n",
    "\n",
    "1. Create two NumPy arrays of shape (3, 4) filled with random integers. Perform element-wise addition, subtraction, multiplication, and division.\n"
   ]
  },
  {
   "cell_type": "code",
   "execution_count": 7,
   "id": "4e0fd0c1",
   "metadata": {},
   "outputs": [
    {
     "name": "stdout",
     "output_type": "stream",
     "text": [
      "Array1:\n",
      " [[1 5 4 1]\n",
      " [9 8 3 7]\n",
      " [7 7 7 7]]\n",
      "Array2:\n",
      " [[8 8 7 3]\n",
      " [6 3 2 2]\n",
      " [2 9 2 3]]\n",
      "Addition:\n",
      " [[ 9 13 11  4]\n",
      " [15 11  5  9]\n",
      " [ 9 16  9 10]]\n",
      "Subtraction:\n",
      " [[-7 -3 -3 -2]\n",
      " [ 3  5  1  5]\n",
      " [ 5 -2  5  4]]\n",
      "Multiplication:\n",
      " [[ 8 40 28  3]\n",
      " [54 24  6 14]\n",
      " [14 63 14 21]]\n",
      "Divison:\n",
      " [[0.125      0.625      0.57142857 0.33333333]\n",
      " [1.5        2.66666667 1.5        3.5       ]\n",
      " [3.5        0.77777778 3.5        2.33333333]]\n"
     ]
    }
   ],
   "source": [
    "arr1=np.random.randint(1,10,size=(3,4))\n",
    "arr2=np.random.randint(1,10,size=(3,4))\n",
    "\n",
    "print(f\"Array1:\\n\",arr1)\n",
    "print(f\"Array2:\\n\",arr2)\n",
    "print(f\"Addition:\\n\",arr1+arr2)\n",
    "print(f\"Subtraction:\\n\",arr1-arr2)\n",
    "print(f\"Multiplication:\\n\",arr1*arr2)\n",
    "print(f\"Divison:\\n\",arr1/arr2)"
   ]
  },
  {
   "cell_type": "markdown",
   "id": "280b0c1a",
   "metadata": {},
   "source": [
    "2. Create a NumPy array of shape (4, 4) with values from 1 to 16. Compute the row-wise and column-wise sum.\n"
   ]
  },
  {
   "cell_type": "code",
   "execution_count": 8,
   "id": "a8b1011b",
   "metadata": {},
   "outputs": [
    {
     "name": "stdout",
     "output_type": "stream",
     "text": [
      "[[ 1  2  3  4]\n",
      " [ 5  6  7  8]\n",
      " [ 9 10 11 12]\n",
      " [13 14 15 16]]\n",
      "Row wise sum:\n",
      " [[10]\n",
      " [26]\n",
      " [42]\n",
      " [58]]\n",
      "Column wise sum: [28 32 36 40]\n"
     ]
    }
   ],
   "source": [
    "new=np.arange(1,17).reshape(4,4)\n",
    "print(new)\n",
    "\n",
    "row_wise=np.sum(new,axis=1).reshape(4,1)\n",
    "print(f\"Row wise sum:\\n\",row_wise)\n",
    "column_size=np.sum(new,axis=0)\n",
    "print(f\"Column wise sum:\",column_size)"
   ]
  },
  {
   "cell_type": "markdown",
   "id": "7ad1ccd2",
   "metadata": {},
   "source": [
    "\n",
    "### Assignment 4: Statistical Operations\n",
    "\n",
    "1. Create a NumPy array of shape (5, 5) filled with random integers. Compute the mean, median, standard deviation, and variance of the array.\n"
   ]
  },
  {
   "cell_type": "code",
   "execution_count": 9,
   "id": "6c2e4314",
   "metadata": {},
   "outputs": [
    {
     "name": "stdout",
     "output_type": "stream",
     "text": [
      "[[42 15  1  2  8]\n",
      " [ 4 36 19 31 37]\n",
      " [47 38 26 45 46]\n",
      " [30 22 31 41 26]\n",
      " [31 40 15 22 37]]\n",
      "Mean 27.68\n",
      "Median 31.0\n",
      "Standard deviation 13.736724500404017\n",
      "Variance 188.6976\n"
     ]
    }
   ],
   "source": [
    "stats=np.random.randint(1,50,size=(5,5))\n",
    "print(stats)\n",
    "print(f\"Mean\",np.mean(stats))\n",
    "print(f\"Median\",np.median(stats))\n",
    "print(f\"Standard deviation\",np.std(stats))\n",
    "print(f\"Variance\",np.var(stats))"
   ]
  },
  {
   "cell_type": "markdown",
   "id": "9848d678",
   "metadata": {},
   "source": [
    "2. Create a NumPy array of shape (3, 3) with values from 1 to 9. Normalize the array (i.e., scale the values to have a mean of 0 and a standard deviation of 1).\n"
   ]
  },
  {
   "cell_type": "code",
   "execution_count": 20,
   "id": "3811637a",
   "metadata": {},
   "outputs": [
    {
     "name": "stdout",
     "output_type": "stream",
     "text": [
      "Array:\n",
      " [[1 2 3]\n",
      " [4 5 6]\n",
      " [7 8 9]]\n",
      "Mean: 5.0\n",
      "Standard Deviation: 2.581988897471611\n",
      "Normalized array:\n",
      " [[-1.54919334 -1.161895   -0.77459667]\n",
      " [-0.38729833  0.          0.38729833]\n",
      " [ 0.77459667  1.161895    1.54919334]]\n"
     ]
    }
   ],
   "source": [
    "data=np.arange(1,10).reshape(3,3)\n",
    "print(f\"Array:\\n\",data)\n",
    "mean=np.mean(data)\n",
    "print(f\"Mean:\",mean)\n",
    "std=np.std(data)\n",
    "print(f\"Standard Deviation:\",std)\n",
    "normalized_data=(data-mean)/std\n",
    "print(f\"Normalized array:\\n\",normalized_data)"
   ]
  },
  {
   "cell_type": "markdown",
   "id": "14fd5e88",
   "metadata": {},
   "source": [
    "\n",
    "### Assignment 5: Broadcasting\n",
    "\n",
    "1. Create a NumPy array of shape (3, 3) filled with random integers. Add a 1D array of shape (3,) to each row of the 2D array using broadcasting.\n"
   ]
  },
  {
   "cell_type": "code",
   "execution_count": 26,
   "id": "d6938618",
   "metadata": {},
   "outputs": [
    {
     "name": "stdout",
     "output_type": "stream",
     "text": [
      "Initial array:\n",
      " [[6 4 9]\n",
      " [1 2 7]\n",
      " [8 4 6]]\n",
      "1D array:\n",
      " [3 8 2]\n",
      "Broadcasted array:\n",
      " [[ 9 12 11]\n",
      " [ 4 10  9]\n",
      " [11 12  8]]\n"
     ]
    }
   ],
   "source": [
    "first=np.random.randint(1,10,size=(3,3))\n",
    "print(f\"Initial array:\\n\",first)\n",
    "addon=np.random.randint(1,10,size=(3,))\n",
    "print(f\"1D array:\\n\",addon)\n",
    "\n",
    "final=first+addon\n",
    "\n",
    "print(f\"Broadcasted array:\\n\",final)\n"
   ]
  },
  {
   "cell_type": "markdown",
   "id": "77055c17",
   "metadata": {},
   "source": [
    "2. Create a NumPy array of shape (4, 4) filled with random integers. Subtract a 1D array of shape (4,) from each column of the 2D array using broadcasting.\n"
   ]
  },
  {
   "cell_type": "code",
   "execution_count": 27,
   "id": "2e3bae42",
   "metadata": {},
   "outputs": [
    {
     "name": "stdout",
     "output_type": "stream",
     "text": [
      "Initial array:\n",
      " [[19 18  1  1]\n",
      " [ 3 18 16  2]\n",
      " [19  5  9 11]\n",
      " [18 18  3 18]]\n",
      "1D array:\n",
      " [6 8 6 5]\n",
      "Broadcasted array:\n",
      " [[13 10 -5 -4]\n",
      " [-3 10 10 -3]\n",
      " [13 -3  3  6]\n",
      " [12 10 -3 13]]\n"
     ]
    }
   ],
   "source": [
    "first=np.random.randint(1,20,size=(4,4))\n",
    "print(f\"Initial array:\\n\",first)\n",
    "subtracted=np.random.randint(1,10,size=(4,))\n",
    "print(f\"1D array:\\n\",subtracted)\n",
    "\n",
    "final=first-subtracted\n",
    "\n",
    "print(f\"Broadcasted array:\\n\",final)"
   ]
  },
  {
   "cell_type": "markdown",
   "id": "85e1650b",
   "metadata": {},
   "source": [
    "\n",
    "### Assignment 6: Linear Algebra\n",
    "\n",
    "1. Create a NumPy array of shape (3, 3) representing a matrix. Compute its determinant, inverse, and eigenvalues.\n"
   ]
  },
  {
   "cell_type": "code",
   "execution_count": 51,
   "id": "13d74622",
   "metadata": {},
   "outputs": [
    {
     "name": "stdout",
     "output_type": "stream",
     "text": [
      "Array:\n",
      " [[1 4 5]\n",
      " [9 9 9]\n",
      " [6 7 4]]\n",
      "Determinant:\n",
      " 90.0\n",
      "Inverse:\n",
      " [[-0.3         0.21111111 -0.1       ]\n",
      " [ 0.2        -0.28888889  0.4       ]\n",
      " [ 0.1         0.18888889 -0.3       ]]\n",
      "Eigen values:\n",
      " [18.56921482 -2.89509855 -1.67411627]\n"
     ]
    }
   ],
   "source": [
    "array=np.random.randint(1,10,size=(3,3))\n",
    "print(f\"Array:\\n\",array)\n",
    "\n",
    "determinant=np.linalg.det(array)\n",
    "print(f\"Determinant:\\n\",determinant)\n",
    "\n",
    "inverse=np.linalg.inv(array)\n",
    "print(f\"Inverse:\\n\",inverse)\n",
    "\n",
    "eigen_values=np.linalg.eigvals(array)\n",
    "print(f\"Eigen values:\\n\",eigen_values)"
   ]
  },
  {
   "cell_type": "markdown",
   "id": "ad99a011",
   "metadata": {},
   "source": [
    "2. Create two NumPy arrays of shape (2, 3) and (3, 2). Perform matrix multiplication on these arrays.\n"
   ]
  },
  {
   "cell_type": "code",
   "execution_count": 46,
   "id": "8f2977bb",
   "metadata": {},
   "outputs": [
    {
     "name": "stdout",
     "output_type": "stream",
     "text": [
      "First array:\n",
      " [[1 8 3]\n",
      " [8 3 1]]\n",
      "Second array:\n",
      " [[5 4]\n",
      " [4 7]\n",
      " [6 5]]\n",
      "[[55 75]\n",
      " [58 58]]\n",
      "Final array:\n",
      " [[55 75]\n",
      " [58 58]]\n"
     ]
    }
   ],
   "source": [
    "a=np.random.randint(1,10,size=(2,3))\n",
    "print(f\"First array:\\n\",a)\n",
    "b=np.random.randint(1,10,size=(3,2))\n",
    "print(f\"Second array:\\n\",b)\n",
    "mul=np.matmul(a,b)\n",
    "'''\n",
    "mul=np.dot(a,b)  #also works\n",
    "'''\n",
    "print(mul)\n",
    "print(f\"Final array:\\n\",mul)"
   ]
  },
  {
   "cell_type": "markdown",
   "id": "58a5318e",
   "metadata": {},
   "source": [
    "\n",
    "### Assignment 7: Advanced Array Manipulation\n",
    "\n",
    "1. Create a NumPy array of shape (3, 3) with values from 1 to 9. Reshape the array to shape (1, 9) and then to shape (9, 1).\n"
   ]
  },
  {
   "cell_type": "code",
   "execution_count": 11,
   "id": "b1f289bc",
   "metadata": {},
   "outputs": [
    {
     "name": "stdout",
     "output_type": "stream",
     "text": [
      "Array: \n",
      " [[1 2 3]\n",
      " [4 5 6]\n",
      " [7 8 9]]\n",
      "[[1 2 3 4 5 6 7 8 9]]\n",
      "[[1]\n",
      " [2]\n",
      " [3]\n",
      " [4]\n",
      " [5]\n",
      " [6]\n",
      " [7]\n",
      " [8]\n",
      " [9]]\n"
     ]
    }
   ],
   "source": [
    "first=np.arange(1,10).reshape(3,3)\n",
    "print(f\"Array: \\n\",first)\n",
    "print(first.reshape(1,9))\n",
    "print(first.reshape(9,1))"
   ]
  },
  {
   "cell_type": "markdown",
   "id": "e10358fa",
   "metadata": {},
   "source": [
    "2. Create a NumPy array of shape (5, 5) filled with random integers. Flatten the array and then reshape it back to (5, 5).\n"
   ]
  },
  {
   "cell_type": "code",
   "execution_count": 12,
   "id": "dd475171",
   "metadata": {},
   "outputs": [
    {
     "name": "stdout",
     "output_type": "stream",
     "text": [
      "Array: \n",
      " [[ 4  3  8  9 17]\n",
      " [16 12 16 18 14]\n",
      " [ 8  2 14  2 11]\n",
      " [ 6  1  8  1 18]\n",
      " [16 19 19  2 18]]\n",
      "Flatten array:\n",
      " [[ 4  3  8  9 17 16 12 16 18 14  8  2 14  2 11  6  1  8  1 18 16 19 19  2\n",
      "  18]]\n",
      "Reshaped array:\n",
      " [[ 4  3  8  9 17]\n",
      " [16 12 16 18 14]\n",
      " [ 8  2 14  2 11]\n",
      " [ 6  1  8  1 18]\n",
      " [16 19 19  2 18]]\n"
     ]
    }
   ],
   "source": [
    "first=np.random.randint(1,20,size=(5,5))\n",
    "print(f\"Array: \\n\",first)\n",
    "second=first.reshape(1,25)\n",
    "print(f\"Flatten array:\\n\",second)\n",
    "\n",
    "'''\n",
    "second=first.flatten()  #this too works\n",
    "'''\n",
    "\n",
    "last=second.reshape(5,5)\n",
    "print(f\"Reshaped array:\\n\",last)"
   ]
  },
  {
   "cell_type": "markdown",
   "id": "aff9b662",
   "metadata": {},
   "source": [
    "\n",
    "### Assignment 8: Fancy Indexing and Boolean Indexing\n",
    "\n",
    "1. Create a NumPy array of shape (5, 5) filled with random integers. Use fancy indexing to extract the elements at the corners of the array.\n"
   ]
  },
  {
   "cell_type": "code",
   "execution_count": 13,
   "id": "2a0fbdc0",
   "metadata": {},
   "outputs": [
    {
     "name": "stdout",
     "output_type": "stream",
     "text": [
      "[[ 5 15  8 14 11]\n",
      " [ 5 10  4  2 18]\n",
      " [ 6 11 17  6  9]\n",
      " [ 2 13 17 17  3]\n",
      " [10 19 15  8 18]]\n",
      "5\n",
      "11\n",
      "10\n",
      "18\n",
      "[ 5 11 10 18]\n"
     ]
    }
   ],
   "source": [
    "start=np.random.randint(1,20,size=(5,5))\n",
    "print(start)\n",
    "print(start[0,0])\n",
    "print(start[0,-1])\n",
    "print(start[-1,0])\n",
    "print(start[-1,-1])\n",
    "\n",
    "'''\n",
    "this is a new type gives automatic list typo\n",
    "corners = array[[0, 0, -1, -1], [0, -1, 0, -1]]  ##fancy indexing\n",
    "'''\n",
    "\n",
    "corners = start[[0, 0, -1, -1], [0, -1, 0, -1]]  \n",
    "print(corners)"
   ]
  },
  {
   "cell_type": "markdown",
   "id": "6293def9",
   "metadata": {},
   "source": [
    "2. Create a NumPy array of shape (4, 4) filled with random integers. Use boolean indexing to set all elements greater than 10 to 10.\n"
   ]
  },
  {
   "cell_type": "code",
   "execution_count": 14,
   "id": "cb161035",
   "metadata": {},
   "outputs": [
    {
     "name": "stdout",
     "output_type": "stream",
     "text": [
      "Array :\n",
      " [[ 6 10  8 13]\n",
      " [13 14  1  4]\n",
      " [ 6 16 19  3]\n",
      " [17  2 12  1]]\n",
      "[[False False False  True]\n",
      " [ True  True False False]\n",
      " [False  True  True False]\n",
      " [ True False  True False]]\n",
      "[13 13 14 16 19 17 12]\n"
     ]
    }
   ],
   "source": [
    "old=np.random.randint(1,20,size=(4,4))\n",
    "print(f\"Array :\\n\",old)\n",
    "\n",
    "new=old>10\n",
    "print(new)\n",
    "\n",
    "new_list=old[new]\n",
    "print(new_list)"
   ]
  },
  {
   "cell_type": "markdown",
   "id": "b192a62b",
   "metadata": {},
   "source": [
    "\n",
    "### Assignment 9: Structured Arrays\n",
    "\n",
    "1. Create a structured array with fields 'name' (string), 'age' (integer), and 'weight' (float). Add some data and sort the array by age.\n"
   ]
  },
  {
   "cell_type": "code",
   "execution_count": 78,
   "id": "340ad67e",
   "metadata": {},
   "outputs": [
    {
     "name": "stdout",
     "output_type": "stream",
     "text": [
      "[('Raghu', 19, 69.) ('Akash', 20, 68.) ('Thala', 43, 75.)\n",
      " ('King', 36, 65.)]\n",
      "[('Raghu', 19, 69.) ('Akash', 20, 68.) ('King', 36, 65.)\n",
      " ('Thala', 43, 75.)]\n"
     ]
    }
   ],
   "source": [
    "dt=np.dtype([(\"name\",np.str_,10),(\"age\",np.int32),(\"weight\",np.float64)])\n",
    "'''\n",
    "dt = [('name', 'U10'), ('age', 'i4'), ('weight', 'f4')]\n",
    "'''\n",
    "main=np.array([(\"Raghu\",19,69),(\"Akash\",20,68),(\"Thala\",43,75),(\"King\",36,65)],dtype=dt)\n",
    "print(main)\n",
    "\n",
    "new=np.sort(main,order=[\"age\"])\n",
    "print(new)"
   ]
  },
  {
   "cell_type": "markdown",
   "id": "7d20028c",
   "metadata": {},
   "source": [
    "2. Create a structured array with fields 'x' and 'y' (both integers). Add some data and compute the Euclidean distance between each pair of points.\n",
    "\n",
    "### Assignment 10: Masked Arrays\n",
    "\n",
    "1. Create a masked array of shape (4, 4) with random integers and mask the elements greater than 10. Compute the sum of the unmasked elements.\n",
    "2. Create a masked array of shape (3, 3) with random integers and mask the diagonal elements. Replace the masked elements with the mean of the unmasked elements.\n"
   ]
  },
  {
   "cell_type": "code",
   "execution_count": null,
   "metadata": {},
   "outputs": [],
   "source": []
  }
 ],
 "metadata": {
  "kernelspec": {
   "display_name": "Python 3",
   "language": "python",
   "name": "python3"
  },
  "language_info": {
   "codemirror_mode": {
    "name": "ipython",
    "version": 3
   },
   "file_extension": ".py",
   "mimetype": "text/x-python",
   "name": "python",
   "nbconvert_exporter": "python",
   "pygments_lexer": "ipython3",
   "version": "3.12.4"
  }
 },
 "nbformat": 4,
 "nbformat_minor": 5
}
