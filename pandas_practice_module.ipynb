{
 "cells": [
  {
   "cell_type": "code",
   "execution_count": 5,
   "id": "1c1fe39c",
   "metadata": {},
   "outputs": [],
   "source": [
    "import numpy as np\n",
    "import pandas as pd\n",
    "import random\n",
    "from random import *"
   ]
  },
  {
   "cell_type": "markdown",
   "metadata": {},
   "source": [
    "# Module: Pandas Assignments\n",
    "## Lesson: Pandas\n",
    "### Assignment 1: DataFrame Creation and Indexing\n",
    "\n",
    "1. Create a Pandas DataFrame with 4 columns and 6 rows filled with random integers. Set the index to be the first column.\n"
   ]
  },
  {
   "cell_type": "code",
   "execution_count": 19,
   "id": "f4e120ac",
   "metadata": {},
   "outputs": [
    {
     "name": "stdout",
     "output_type": "stream",
     "text": [
      "    A   B   C   D\n",
      "0  19  16  19  13\n",
      "1  16  18   2   1\n",
      "2  13  19  11   7\n",
      "3   4  16  15  11\n",
      "4  12   4   9   2\n",
      "5  15  16   3   2\n",
      "     B   C   D\n",
      "A             \n",
      "19  16  19  13\n",
      "16  18   2   1\n",
      "13  19  11   7\n",
      "4   16  15  11\n",
      "12   4   9   2\n",
      "15  16   3   2\n"
     ]
    }
   ],
   "source": [
    "df=pd.DataFrame(np.random.randint(1,20,size=(6,4)),columns=['A','B','C','D'])\n",
    "print(df)\n",
    "\n",
    "df.set_index('A',inplace=True)\n",
    "print(df)"
   ]
  },
  {
   "cell_type": "markdown",
   "id": "4f796b0f",
   "metadata": {},
   "source": [
    "2. Create a Pandas DataFrame with columns 'A', 'B', 'C' and index 'X', 'Y', 'Z'. Fill the DataFrame with random integers and access the element at row 'Y' and column 'B'.\n"
   ]
  },
  {
   "cell_type": "code",
   "execution_count": 36,
   "id": "cef078fa",
   "metadata": {},
   "outputs": [
    {
     "name": "stdout",
     "output_type": "stream",
     "text": [
      "   A   B   C\n",
      "X  4  11   5\n",
      "Y  9   1  18\n",
      "Z  2  18  19\n",
      "[Y,B]: 1\n"
     ]
    }
   ],
   "source": [
    "df=pd.DataFrame(np.random.randint(1,20,size=(3,3)),columns=['A','B','C'],index=['X','Y','Z'])\n",
    "print(df)\n",
    "\n",
    "element=df.at['Y','B']\n",
    "print(f'[Y,B]:',element)"
   ]
  },
  {
   "cell_type": "markdown",
   "id": "d3f0e0ce",
   "metadata": {},
   "source": [
    "\n",
    "### Assignment 2: DataFrame Operations\n",
    "\n",
    "1. Create a Pandas DataFrame with 3 columns and 5 rows filled with random integers. Add a new column that is the product of the first two columns.\n"
   ]
  },
  {
   "cell_type": "code",
   "execution_count": 42,
   "id": "b0fb6e64",
   "metadata": {},
   "outputs": [
    {
     "name": "stdout",
     "output_type": "stream",
     "text": [
      "   A   B   C\n",
      "0  7   3   1\n",
      "1  8   9   4\n",
      "2  7   3  12\n",
      "3  3  14   8\n",
      "4  7  12   2\n",
      "   A   B   C   D\n",
      "0  7   3   1  21\n",
      "1  8   9   4  72\n",
      "2  7   3  12  21\n",
      "3  3  14   8  42\n",
      "4  7  12   2  84\n"
     ]
    }
   ],
   "source": [
    "df=pd.DataFrame(np.random.randint(1,15,size=(5,3)),columns=['A','B','C'])\n",
    "print(df)\n",
    "\n",
    "df['D']=df[\"A\"] * df['B']\n",
    "print(df)"
   ]
  },
  {
   "cell_type": "markdown",
   "id": "0b24feca",
   "metadata": {},
   "source": [
    "2. Create a Pandas DataFrame with 3 columns and 4 rows filled with random integers. Compute the row-wise and column-wise sum.\n"
   ]
  },
  {
   "cell_type": "code",
   "execution_count": 48,
   "id": "ac9066f7",
   "metadata": {},
   "outputs": [
    {
     "name": "stdout",
     "output_type": "stream",
     "text": [
      "    A   B  C\n",
      "0  10   5  9\n",
      "1   3   5  4\n",
      "2   6  12  3\n",
      "3   9  11  4\n",
      "Row wise sum:\n",
      " 0    24\n",
      "1    12\n",
      "2    21\n",
      "3    24\n",
      "dtype: int64\n",
      "Column wise sum:\n",
      " A    28\n",
      "B    33\n",
      "C    20\n",
      "dtype: int64\n"
     ]
    }
   ],
   "source": [
    "df=pd.DataFrame(np.random.randint(1,15,size=(4,3)),columns=['A','B','C'])\n",
    "print(df)\n",
    "\n",
    "row_wise=df.sum(axis=1)\n",
    "print(f\"Row wise sum:\\n\",row_wise)\n",
    "column_wise=df.sum(axis=0)\n",
    "print(f\"Column wise sum:\\n\",column_wise)"
   ]
  },
  {
   "cell_type": "markdown",
   "id": "ac1804e2",
   "metadata": {},
   "source": [
    "\n",
    "### Assignment 3: Data Cleaning\n",
    "\n",
    "1. Create a Pandas DataFrame with 3 columns and 5 rows filled with random integers. Introduce some NaN values. Fill the NaN values with the mean of the respective columns.\n"
   ]
  },
  {
   "cell_type": "code",
   "execution_count": 75,
   "id": "1a0a3688",
   "metadata": {},
   "outputs": [
    {
     "name": "stdout",
     "output_type": "stream",
     "text": [
      "    A  B   C\n",
      "0   2  4   5\n",
      "1  10  3   1\n",
      "2  10  9  13\n",
      "3  11  5   9\n",
      "4   9  5  12\n",
      "      A    B     C\n",
      "0   NaN  4.0   5.0\n",
      "1  10.0  3.0   1.0\n",
      "2  10.0  9.0   NaN\n",
      "3  11.0  NaN   9.0\n",
      "4   9.0  5.0  12.0\n",
      "      A     B      C\n",
      "0  10.0  4.00   5.00\n",
      "1  10.0  3.00   1.00\n",
      "2  10.0  9.00   6.75\n",
      "3  11.0  5.25   9.00\n",
      "4   9.0  5.00  12.00\n"
     ]
    }
   ],
   "source": [
    "df=pd.DataFrame(np.random.randint(1,15,size=(5,3)),columns=['A','B','C'])\n",
    "print(df)\n",
    "\n",
    "df.iloc[0,0]=np.nan\n",
    "df.iloc[2,2]=np.nan\n",
    "df.iloc[3,1]=np.nan\n",
    "print(df)\n",
    "\n",
    "df.fillna(df.mean(),inplace=True)\n",
    "print(df)\n"
   ]
  },
  {
   "cell_type": "markdown",
   "id": "c419a4a1",
   "metadata": {},
   "source": [
    "2. Create a Pandas DataFrame with 4 columns and 6 rows filled with random integers. Introduce some NaN values. Drop the rows with any NaN values.\n",
    "\n",
    "### Assignment 4: Data Aggregation\n",
    "\n",
    "1. Create a Pandas DataFrame with 2 columns: 'Category' and 'Value'. Fill the 'Category' column with random categories ('A', 'B', 'C') and the 'Value' column with random integers. Group the DataFrame by 'Category' and compute the sum and mean of 'Value' for each category.\n",
    "2. Create a Pandas DataFrame with 3 columns: 'Product', 'Category', and 'Sales'. Fill the DataFrame with random data. Group the DataFrame by 'Category' and compute the total sales for each category.\n",
    "\n",
    "### Assignment 5: Merging DataFrames\n",
    "\n",
    "1. Create two Pandas DataFrames with a common column. Merge the DataFrames using the common column.\n",
    "2. Create two Pandas DataFrames with different columns. Concatenate the DataFrames along the rows and along the columns.\n",
    "\n",
    "### Assignment 6: Time Series Analysis\n",
    "\n",
    "1. Create a Pandas DataFrame with a datetime index and one column filled with random integers. Resample the DataFrame to compute the monthly mean of the values.\n",
    "2. Create a Pandas DataFrame with a datetime index ranging from '2021-01-01' to '2021-12-31' and one column filled with random integers. Compute the rolling mean with a window of 7 days.\n",
    "\n",
    "### Assignment 7: MultiIndex DataFrame\n",
    "\n",
    "1. Create a Pandas DataFrame with a MultiIndex (hierarchical index). Perform some basic indexing and slicing operations on the MultiIndex DataFrame.\n",
    "2. Create a Pandas DataFrame with MultiIndex consisting of 'Category' and 'SubCategory'. Fill the DataFrame with random data and compute the sum of values for each 'Category' and 'SubCategory'.\n",
    "\n",
    "### Assignment 8: Pivot Tables\n",
    "\n",
    "1. Create a Pandas DataFrame with columns 'Date', 'Category', and 'Value'. Create a pivot table to compute the sum of 'Value' for each 'Category' by 'Date'.\n",
    "2. Create a Pandas DataFrame with columns 'Year', 'Quarter', and 'Revenue'. Create a pivot table to compute the mean 'Revenue' for each 'Quarter' by 'Year'.\n",
    "\n",
    "### Assignment 9: Applying Functions\n",
    "\n",
    "1. Create a Pandas DataFrame with 3 columns and 5 rows filled with random integers. Apply a function that doubles the values of the DataFrame.\n",
    "2. Create a Pandas DataFrame with 3 columns and 6 rows filled with random integers. Apply a lambda function to create a new column that is the sum of the existing columns.\n",
    "\n",
    "### Assignment 10: Working with Text Data\n",
    "\n",
    "1. Create a Pandas Series with 5 random text strings. Convert all the strings to uppercase.\n",
    "2. Create a Pandas Series with 5 random text strings. Extract the first three characters of each string.\n"
   ]
  },
  {
   "cell_type": "code",
   "execution_count": null,
   "metadata": {},
   "outputs": [],
   "source": []
  }
 ],
 "metadata": {
  "kernelspec": {
   "display_name": "Python 3",
   "language": "python",
   "name": "python3"
  },
  "language_info": {
   "codemirror_mode": {
    "name": "ipython",
    "version": 3
   },
   "file_extension": ".py",
   "mimetype": "text/x-python",
   "name": "python",
   "nbconvert_exporter": "python",
   "pygments_lexer": "ipython3",
   "version": "3.12.4"
  }
 },
 "nbformat": 4,
 "nbformat_minor": 5
}
