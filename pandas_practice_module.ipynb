{
 "cells": [
  {
   "cell_type": "code",
   "execution_count": 31,
   "id": "1c1fe39c",
   "metadata": {},
   "outputs": [],
   "source": [
    "import numpy as np\n",
    "import pandas as pd\n",
    "import random\n",
    "from random import *"
   ]
  },
  {
   "cell_type": "markdown",
   "metadata": {},
   "source": [
    "# Module: Pandas Assignments\n",
    "## Lesson: Pandas\n",
    "### Assignment 1: DataFrame Creation and Indexing\n",
    "\n",
    "1. Create a Pandas DataFrame with 4 columns and 6 rows filled with random integers. Set the index to be the first column.\n"
   ]
  },
  {
   "cell_type": "code",
   "execution_count": 32,
   "id": "f4e120ac",
   "metadata": {},
   "outputs": [
    {
     "name": "stdout",
     "output_type": "stream",
     "text": [
      "    A   B   C   D\n",
      "0  11   6   6   4\n",
      "1  11  11  13  17\n",
      "2  12  19  13   7\n",
      "3  16   6  16   9\n",
      "4   2   3  10   9\n",
      "5   5   5   7   2\n",
      "     B   C   D\n",
      "A             \n",
      "11   6   6   4\n",
      "11  11  13  17\n",
      "12  19  13   7\n",
      "16   6  16   9\n",
      "2    3  10   9\n",
      "5    5   7   2\n"
     ]
    }
   ],
   "source": [
    "df=pd.DataFrame(np.random.randint(1,20,size=(6,4)),columns=['A','B','C','D'])\n",
    "print(df)\n",
    "\n",
    "df.set_index('A',inplace=True)\n",
    "print(df)"
   ]
  },
  {
   "cell_type": "markdown",
   "id": "4f796b0f",
   "metadata": {},
   "source": [
    "2. Create a Pandas DataFrame with columns 'A', 'B', 'C' and index 'X', 'Y', 'Z'. Fill the DataFrame with random integers and access the element at row 'Y' and column 'B'.\n"
   ]
  },
  {
   "cell_type": "code",
   "execution_count": 33,
   "id": "cef078fa",
   "metadata": {},
   "outputs": [
    {
     "name": "stdout",
     "output_type": "stream",
     "text": [
      "    A   B   C\n",
      "X  18   2  17\n",
      "Y  19  14  10\n",
      "Z   8   6  10\n",
      "\n",
      "[Y,B]: 14\n"
     ]
    }
   ],
   "source": [
    "df=pd.DataFrame(np.random.randint(1,20,size=(3,3)),columns=['A','B','C'],index=['X','Y','Z'])\n",
    "print(df)\n",
    "\n",
    "element=df.at['Y','B']\n",
    "print(f'\\n[Y,B]:',element)"
   ]
  },
  {
   "cell_type": "markdown",
   "id": "d3f0e0ce",
   "metadata": {},
   "source": [
    "\n",
    "### Assignment 2: DataFrame Operations\n",
    "\n",
    "1. Create a Pandas DataFrame with 3 columns and 5 rows filled with random integers. Add a new column that is the product of the first two columns.\n"
   ]
  },
  {
   "cell_type": "code",
   "execution_count": 34,
   "id": "b0fb6e64",
   "metadata": {},
   "outputs": [
    {
     "name": "stdout",
     "output_type": "stream",
     "text": [
      "   A   B   C\n",
      "0  3   6  13\n",
      "1  9   1   2\n",
      "2  9   3  10\n",
      "3  1  14   1\n",
      "4  6   3   6\n",
      "   A   B   C   D\n",
      "0  3   6  13  18\n",
      "1  9   1   2   9\n",
      "2  9   3  10  27\n",
      "3  1  14   1  14\n",
      "4  6   3   6  18\n"
     ]
    }
   ],
   "source": [
    "df=pd.DataFrame(np.random.randint(1,15,size=(5,3)),columns=['A','B','C'])\n",
    "print(df)\n",
    "\n",
    "df['D']=df[\"A\"] * df['B']\n",
    "print(df)"
   ]
  },
  {
   "cell_type": "markdown",
   "id": "0b24feca",
   "metadata": {},
   "source": [
    "2. Create a Pandas DataFrame with 3 columns and 4 rows filled with random integers. Compute the row-wise and column-wise sum.\n"
   ]
  },
  {
   "cell_type": "code",
   "execution_count": 35,
   "id": "ac9066f7",
   "metadata": {},
   "outputs": [
    {
     "name": "stdout",
     "output_type": "stream",
     "text": [
      "    A  B   C\n",
      "0   1  8   6\n",
      "1   6  5   7\n",
      "2  14  7   2\n",
      "3   5  5  12\n",
      "Row wise sum:\n",
      " 0    15\n",
      "1    18\n",
      "2    23\n",
      "3    22\n",
      "dtype: int64\n",
      "Column wise sum:\n",
      " A    26\n",
      "B    25\n",
      "C    27\n",
      "dtype: int64\n"
     ]
    }
   ],
   "source": [
    "df=pd.DataFrame(np.random.randint(1,15,size=(4,3)),columns=['A','B','C'])\n",
    "print(df)\n",
    "\n",
    "row_wise=df.sum(axis=1)\n",
    "print(f\"Row wise sum:\\n\",row_wise)\n",
    "column_wise=df.sum(axis=0)\n",
    "print(f\"Column wise sum:\\n\",column_wise)"
   ]
  },
  {
   "cell_type": "markdown",
   "id": "ac1804e2",
   "metadata": {},
   "source": [
    "\n",
    "### Assignment 3: Data Cleaning\n",
    "\n",
    "1. Create a Pandas DataFrame with 3 columns and 5 rows filled with random integers. Introduce some NaN values. Fill the NaN values with the mean of the respective columns.\n"
   ]
  },
  {
   "cell_type": "code",
   "execution_count": 36,
   "id": "1a0a3688",
   "metadata": {},
   "outputs": [
    {
     "name": "stdout",
     "output_type": "stream",
     "text": [
      "    A   B   C\n",
      "0  13   3  10\n",
      "1  10   5  13\n",
      "2   1   5   7\n",
      "3   2  12   7\n",
      "4   5  10   5\n"
     ]
    },
    {
     "name": "stdout",
     "output_type": "stream",
     "text": [
      "      A     B     C\n",
      "0   NaN   3.0  10.0\n",
      "1  10.0   5.0  13.0\n",
      "2   1.0   5.0   NaN\n",
      "3   2.0   NaN   7.0\n",
      "4   5.0  10.0   5.0\n",
      "      A      B      C\n",
      "0   4.5   3.00  10.00\n",
      "1  10.0   5.00  13.00\n",
      "2   1.0   5.00   8.75\n",
      "3   2.0   5.75   7.00\n",
      "4   5.0  10.00   5.00\n"
     ]
    }
   ],
   "source": [
    "df=pd.DataFrame(np.random.randint(1,15,size=(5,3)),columns=['A','B','C'])\n",
    "print(df)\n",
    "\n",
    "df.iloc[0,0]=np.nan\n",
    "df.iloc[2,2]=np.nan\n",
    "df.iloc[3,1]=np.nan\n",
    "print(df)\n",
    "\n",
    "df.fillna(df.mean(),inplace=True)\n",
    "print(df)\n"
   ]
  },
  {
   "cell_type": "markdown",
   "id": "c419a4a1",
   "metadata": {},
   "source": [
    "2. Create a Pandas DataFrame with 4 columns and 6 rows filled with random integers. Introduce some NaN values. Drop the rows with any NaN values.\n"
   ]
  },
  {
   "cell_type": "code",
   "execution_count": 37,
   "id": "078392ff",
   "metadata": {},
   "outputs": [
    {
     "name": "stdout",
     "output_type": "stream",
     "text": [
      "    A   B   C   D\n",
      "0  12  11  13  19\n",
      "1   4  10   6  12\n",
      "2   5  12  15  14\n",
      "3  14   7   6  11\n",
      "4  19  17   6  15\n",
      "5   4   1  11  12\n",
      "    A   B     C     D\n",
      "0  12  11  13.0  19.0\n",
      "1   4  10   6.0  12.0\n",
      "2   5  12  15.0   NaN\n",
      "3  14   7   6.0  11.0\n",
      "4  19  17   NaN  15.0\n",
      "5   4   1  11.0  12.0\n"
     ]
    },
    {
     "data": {
      "text/html": [
       "<div>\n",
       "<style scoped>\n",
       "    .dataframe tbody tr th:only-of-type {\n",
       "        vertical-align: middle;\n",
       "    }\n",
       "\n",
       "    .dataframe tbody tr th {\n",
       "        vertical-align: top;\n",
       "    }\n",
       "\n",
       "    .dataframe thead th {\n",
       "        text-align: right;\n",
       "    }\n",
       "</style>\n",
       "<table border=\"1\" class=\"dataframe\">\n",
       "  <thead>\n",
       "    <tr style=\"text-align: right;\">\n",
       "      <th></th>\n",
       "      <th>A</th>\n",
       "      <th>B</th>\n",
       "      <th>C</th>\n",
       "      <th>D</th>\n",
       "    </tr>\n",
       "  </thead>\n",
       "  <tbody>\n",
       "    <tr>\n",
       "      <th>0</th>\n",
       "      <td>12</td>\n",
       "      <td>11</td>\n",
       "      <td>13.0</td>\n",
       "      <td>19.0</td>\n",
       "    </tr>\n",
       "    <tr>\n",
       "      <th>1</th>\n",
       "      <td>4</td>\n",
       "      <td>10</td>\n",
       "      <td>6.0</td>\n",
       "      <td>12.0</td>\n",
       "    </tr>\n",
       "    <tr>\n",
       "      <th>3</th>\n",
       "      <td>14</td>\n",
       "      <td>7</td>\n",
       "      <td>6.0</td>\n",
       "      <td>11.0</td>\n",
       "    </tr>\n",
       "    <tr>\n",
       "      <th>5</th>\n",
       "      <td>4</td>\n",
       "      <td>1</td>\n",
       "      <td>11.0</td>\n",
       "      <td>12.0</td>\n",
       "    </tr>\n",
       "  </tbody>\n",
       "</table>\n",
       "</div>"
      ],
      "text/plain": [
       "    A   B     C     D\n",
       "0  12  11  13.0  19.0\n",
       "1   4  10   6.0  12.0\n",
       "3  14   7   6.0  11.0\n",
       "5   4   1  11.0  12.0"
      ]
     },
     "execution_count": 37,
     "metadata": {},
     "output_type": "execute_result"
    }
   ],
   "source": [
    "df=pd.DataFrame(np.random.randint(1,20,size=(6,4)),columns=['A','B','C','D'])\n",
    "print(df)\n",
    "\n",
    "df.iloc[2,3]=np.nan\n",
    "df.iloc[4,2]=np.nan\n",
    "print(df)\n",
    "\n",
    "df.dropna()\n"
   ]
  },
  {
   "cell_type": "markdown",
   "id": "d77d1fcb",
   "metadata": {},
   "source": [
    "\n",
    "### Assignment 4: Data Aggregation\n",
    "\n",
    "1. Create a Pandas DataFrame with 2 columns: 'Category' and 'Value'. Fill the 'Category' column with random categories ('A', 'B', 'C') and the 'Value' column with random integers. Group the DataFrame by 'Category' and compute the sum and mean of 'Value' for each category.\n"
   ]
  },
  {
   "cell_type": "code",
   "execution_count": 38,
   "id": "f42bd182",
   "metadata": {},
   "outputs": [
    {
     "name": "stdout",
     "output_type": "stream",
     "text": [
      "DataFrame:\n",
      "   Category  Value\n",
      "0        A      5\n",
      "1        A      6\n",
      "2        B      9\n",
      "3        A      5\n",
      "4        B      2\n",
      "5        A      5\n",
      "6        C      3\n",
      "7        A      8\n",
      "8        A      6\n",
      "9        B      6\n",
      "              mean  sum\n",
      "Category               \n",
      "A         5.833333   35\n",
      "B         5.666667   17\n",
      "C         3.000000    3\n"
     ]
    }
   ],
   "source": [
    "df=pd.DataFrame({'Category':np.random.choice(['A','B','C'],size=10),'Value':np.random.randint(1,10,size=10)})\n",
    "print(f\"DataFrame:\\n\",df)\n",
    "\n",
    "aggg=df.groupby(\"Category\")[\"Value\"].agg(['mean','sum'])\n",
    "print(aggg)\n"
   ]
  },
  {
   "cell_type": "markdown",
   "id": "041fd337",
   "metadata": {},
   "source": [
    "2. Create a Pandas DataFrame with 3 columns: 'Product', 'Category', and 'Sales'. Fill the DataFrame with random data. Group the DataFrame by 'Category' and compute the total sales for each category.\n"
   ]
  },
  {
   "cell_type": "code",
   "execution_count": 39,
   "id": "1ec25e15",
   "metadata": {},
   "outputs": [
    {
     "name": "stdout",
     "output_type": "stream",
     "text": [
      "Data:\n",
      "      Product Category  Sales\n",
      "0   Product3        A    378\n",
      "1   Product1        B    383\n",
      "2   Product3        B    880\n",
      "3   Product3        B    230\n",
      "4   Product3        A    576\n",
      "5   Product1        B    543\n",
      "6   Product1        A    191\n",
      "7   Product1        B    771\n",
      "8   Product3        A    863\n",
      "9   Product2        B    240\n",
      "10  Product2        A    365\n",
      "11  Product3        A    527\n",
      "12  Product3        A    289\n",
      "13  Product3        A    832\n",
      "14  Product3        A    257\n",
      "\n",
      "Total sales of products category wise:\n",
      " Product   Category\n",
      "Product1  A            191\n",
      "          B           1697\n",
      "Product2  A            365\n",
      "          B            240\n",
      "Product3  A           3722\n",
      "          B           1110\n",
      "Name: Sales, dtype: int32\n"
     ]
    }
   ],
   "source": [
    "sale_data=pd.DataFrame({'Product':np.random.choice(['Product1','Product2','Product3'],size=15),\n",
    "                   'Category':np.random.choice(['A','B'],size=15),\n",
    "                   'Sales':np.random.randint(50,1000,size=15)})\n",
    "print(f\"Data:\\n\",sale_data)\n",
    "\n",
    "total_sale=sale_data.groupby(['Product','Category'])['Sales'].sum()\n",
    "print(f\"\\nTotal sales of products category wise:\\n\",total_sale)"
   ]
  },
  {
   "cell_type": "markdown",
   "id": "dec3881d",
   "metadata": {},
   "source": [
    "\n",
    "### Assignment 5: Merging DataFrames\n",
    "\n",
    "1. Create two Pandas DataFrames with a common column. Merge the DataFrames using the common column.\n"
   ]
  },
  {
   "cell_type": "code",
   "execution_count": 40,
   "id": "4b1a8a5d",
   "metadata": {},
   "outputs": [
    {
     "name": "stdout",
     "output_type": "stream",
     "text": [
      "   X  y\n",
      "0  A  5\n",
      "1  B  2\n",
      "2  C  1\n",
      "3  D  7\n",
      "   X  z\n",
      "0  A  2\n",
      "1  B  8\n",
      "2  C  5\n",
      "3  D  2\n"
     ]
    },
    {
     "data": {
      "text/html": [
       "<div>\n",
       "<style scoped>\n",
       "    .dataframe tbody tr th:only-of-type {\n",
       "        vertical-align: middle;\n",
       "    }\n",
       "\n",
       "    .dataframe tbody tr th {\n",
       "        vertical-align: top;\n",
       "    }\n",
       "\n",
       "    .dataframe thead th {\n",
       "        text-align: right;\n",
       "    }\n",
       "</style>\n",
       "<table border=\"1\" class=\"dataframe\">\n",
       "  <thead>\n",
       "    <tr style=\"text-align: right;\">\n",
       "      <th></th>\n",
       "      <th>X</th>\n",
       "      <th>y</th>\n",
       "      <th>z</th>\n",
       "    </tr>\n",
       "  </thead>\n",
       "  <tbody>\n",
       "    <tr>\n",
       "      <th>0</th>\n",
       "      <td>A</td>\n",
       "      <td>5</td>\n",
       "      <td>2</td>\n",
       "    </tr>\n",
       "    <tr>\n",
       "      <th>1</th>\n",
       "      <td>B</td>\n",
       "      <td>2</td>\n",
       "      <td>8</td>\n",
       "    </tr>\n",
       "    <tr>\n",
       "      <th>2</th>\n",
       "      <td>C</td>\n",
       "      <td>1</td>\n",
       "      <td>5</td>\n",
       "    </tr>\n",
       "    <tr>\n",
       "      <th>3</th>\n",
       "      <td>D</td>\n",
       "      <td>7</td>\n",
       "      <td>2</td>\n",
       "    </tr>\n",
       "  </tbody>\n",
       "</table>\n",
       "</div>"
      ],
      "text/plain": [
       "   X  y  z\n",
       "0  A  5  2\n",
       "1  B  2  8\n",
       "2  C  1  5\n",
       "3  D  7  2"
      ]
     },
     "execution_count": 40,
     "metadata": {},
     "output_type": "execute_result"
    }
   ],
   "source": [
    "df1=pd.DataFrame({'X':['A','B','C','D'],'y':np.random.randint(1,10,size=4)})\n",
    "print(df1)\n",
    "df2=pd.DataFrame({'X':['A','B','C','D'],'z':np.random.randint(1,10,size=4)})\n",
    "print(df2)\n",
    "pd.merge(df1,df2,on='X')"
   ]
  },
  {
   "cell_type": "markdown",
   "id": "e0dea044",
   "metadata": {},
   "source": [
    "2. Create two Pandas DataFrames with different columns. Concatenate the DataFrames along the rows and along the columns.\n"
   ]
  },
  {
   "cell_type": "code",
   "execution_count": 41,
   "id": "6a7e268e",
   "metadata": {},
   "outputs": [
    {
     "name": "stdout",
     "output_type": "stream",
     "text": [
      "   a  b\n",
      "0  3  3\n",
      "1  3  5\n",
      "2  1  6\n",
      "3  7  5\n",
      "   c  d\n",
      "0  8  3\n",
      "1  8  9\n",
      "2  6  8\n",
      "3  8  6\n",
      "     a    b    c    d\n",
      "0  3.0  3.0  NaN  NaN\n",
      "1  3.0  5.0  NaN  NaN\n",
      "2  1.0  6.0  NaN  NaN\n",
      "3  7.0  5.0  NaN  NaN\n",
      "0  NaN  NaN  8.0  3.0\n",
      "1  NaN  NaN  8.0  9.0\n",
      "2  NaN  NaN  6.0  8.0\n",
      "3  NaN  NaN  8.0  6.0\n",
      "   a  b  c  d\n",
      "0  3  3  8  3\n",
      "1  3  5  8  9\n",
      "2  1  6  6  8\n",
      "3  7  5  8  6\n"
     ]
    }
   ],
   "source": [
    "df1=pd.DataFrame({'a':np.random.randint(1,10,size=4),'b':np.random.randint(1,10,size=4)})\n",
    "print(df1)\n",
    "df2=pd.DataFrame({'c':np.random.randint(1,10,size=4),'d':np.random.randint(1,10,size=4)})\n",
    "print(df2)\n",
    "rows=pd.concat([df1,df2],axis=0)\n",
    "print(rows)\n",
    "columns=pd.concat([df1,df2],axis=1)\n",
    "print(columns)"
   ]
  },
  {
   "cell_type": "markdown",
   "id": "ae2f4385",
   "metadata": {},
   "source": [
    "\n",
    "### Assignment 6: Time Series Analysis\n",
    "\n",
    "1. Create a Pandas DataFrame with a datetime index and one column filled with random integers. Resample the DataFrame to compute the monthly mean of the values.\n",
    "2. Create a Pandas DataFrame with a datetime index ranging from '2021-01-01' to '2021-12-31' and one column filled with random integers. Compute the rolling mean with a window of 7 days.\n",
    "\n",
    "### Assignment 7: MultiIndex DataFrame\n",
    "\n",
    "1. Create a Pandas DataFrame with a MultiIndex (hierarchical index). Perform some basic indexing and slicing operations on the MultiIndex DataFrame.\n",
    "2. Create a Pandas DataFrame with MultiIndex consisting of 'Category' and 'SubCategory'. Fill the DataFrame with random data and compute the sum of values for each 'Category' and 'SubCategory'.\n",
    "\n",
    "### Assignment 8: Pivot Tables\n",
    "\n",
    "1. Create a Pandas DataFrame with columns 'Date', 'Category', and 'Value'. Create a pivot table to compute the sum of 'Value' for each 'Category' by 'Date'.\n",
    "2. Create a Pandas DataFrame with columns 'Year', 'Quarter', and 'Revenue'. Create a pivot table to compute the mean 'Revenue' for each 'Quarter' by 'Year'.\n",
    "\n",
    "### Assignment 9: Applying Functions\n",
    "\n",
    "1. Create a Pandas DataFrame with 3 columns and 5 rows filled with random integers. Apply a function that doubles the values of the DataFrame.\n",
    "2. Create a Pandas DataFrame with 3 columns and 6 rows filled with random integers. Apply a lambda function to create a new column that is the sum of the existing columns.\n",
    "\n",
    "### Assignment 10: Working with Text Data\n",
    "\n",
    "1. Create a Pandas Series with 5 random text strings. Convert all the strings to uppercase.\n",
    "2. Create a Pandas Series with 5 random text strings. Extract the first three characters of each string.\n"
   ]
  },
  {
   "cell_type": "code",
   "execution_count": null,
   "metadata": {},
   "outputs": [],
   "source": []
  }
 ],
 "metadata": {
  "kernelspec": {
   "display_name": "Python 3",
   "language": "python",
   "name": "python3"
  },
  "language_info": {
   "codemirror_mode": {
    "name": "ipython",
    "version": 3
   },
   "file_extension": ".py",
   "mimetype": "text/x-python",
   "name": "python",
   "nbconvert_exporter": "python",
   "pygments_lexer": "ipython3",
   "version": "3.12.4"
  }
 },
 "nbformat": 4,
 "nbformat_minor": 5
}
