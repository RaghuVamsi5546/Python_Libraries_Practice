{
 "cells": [
  {
   "cell_type": "markdown",
   "metadata": {},
   "source": [
    "# Module: Pandas Assignments\n",
    "## Lesson: Pandas\n"
   ]
  },
  {
   "cell_type": "code",
   "execution_count": 2,
   "id": "5aa33867",
   "metadata": {},
   "outputs": [],
   "source": [
    "import numpy as np\n",
    "import pandas as pd\n",
    "import random\n",
    "from random import *"
   ]
  },
  {
   "cell_type": "markdown",
   "id": "0f4814ab",
   "metadata": {},
   "source": [
    "### Assignment 1: DataFrame Creation and Indexing\n",
    "\n",
    "1. Create a Pandas DataFrame with 4 columns and 6 rows filled with random integers. Set the index to be the first column.\n"
   ]
  },
  {
   "cell_type": "code",
   "execution_count": 3,
   "id": "f4e120ac",
   "metadata": {},
   "outputs": [
    {
     "name": "stdout",
     "output_type": "stream",
     "text": [
      "    A   B   C   D\n",
      "0  19  13   6   1\n",
      "1  13   5  12   5\n",
      "2  14   9   8   7\n",
      "3  18  17   6  11\n",
      "4  17   5   8  16\n",
      "5  18  15   5   8\n",
      "     B   C   D\n",
      "A             \n",
      "19  13   6   1\n",
      "13   5  12   5\n",
      "14   9   8   7\n",
      "18  17   6  11\n",
      "17   5   8  16\n",
      "18  15   5   8\n"
     ]
    }
   ],
   "source": [
    "df=pd.DataFrame(np.random.randint(1,20,size=(6,4)),columns=['A','B','C','D'])\n",
    "print(df)\n",
    "\n",
    "df.set_index('A',inplace=True)\n",
    "print(df)"
   ]
  },
  {
   "cell_type": "markdown",
   "id": "4f796b0f",
   "metadata": {},
   "source": [
    "2. Create a Pandas DataFrame with columns 'A', 'B', 'C' and index 'X', 'Y', 'Z'. Fill the DataFrame with random integers and access the element at row 'Y' and column 'B'.\n"
   ]
  },
  {
   "cell_type": "code",
   "execution_count": 4,
   "id": "cef078fa",
   "metadata": {},
   "outputs": [
    {
     "name": "stdout",
     "output_type": "stream",
     "text": [
      "    A   B   C\n",
      "X   3   4   7\n",
      "Y  18  11  15\n",
      "Z  18   9  16\n",
      "\n",
      "[Y,B]: 11\n"
     ]
    }
   ],
   "source": [
    "df=pd.DataFrame(np.random.randint(1,20,size=(3,3)),columns=['A','B','C'],index=['X','Y','Z'])\n",
    "print(df)\n",
    "\n",
    "element=df.at['Y','B']\n",
    "print(f'\\n[Y,B]:',element)"
   ]
  },
  {
   "cell_type": "markdown",
   "id": "d3f0e0ce",
   "metadata": {},
   "source": [
    "\n",
    "### Assignment 2: DataFrame Operations\n",
    "\n",
    "1. Create a Pandas DataFrame with 3 columns and 5 rows filled with random integers. Add a new column that is the product of the first two columns.\n"
   ]
  },
  {
   "cell_type": "code",
   "execution_count": 5,
   "id": "b0fb6e64",
   "metadata": {},
   "outputs": [
    {
     "name": "stdout",
     "output_type": "stream",
     "text": [
      "    A   B   C\n",
      "0  12   7   5\n",
      "1   9   6   7\n",
      "2   6  11  12\n",
      "3  13  12   5\n",
      "4   9   5   2\n",
      "    A   B   C    D\n",
      "0  12   7   5   84\n",
      "1   9   6   7   54\n",
      "2   6  11  12   66\n",
      "3  13  12   5  156\n",
      "4   9   5   2   45\n"
     ]
    }
   ],
   "source": [
    "df=pd.DataFrame(np.random.randint(1,15,size=(5,3)),columns=['A','B','C'])\n",
    "print(df)\n",
    "\n",
    "df['D']=df[\"A\"] * df['B']\n",
    "print(df)"
   ]
  },
  {
   "cell_type": "markdown",
   "id": "0b24feca",
   "metadata": {},
   "source": [
    "2. Create a Pandas DataFrame with 3 columns and 4 rows filled with random integers. Compute the row-wise and column-wise sum.\n"
   ]
  },
  {
   "cell_type": "code",
   "execution_count": 6,
   "id": "ac9066f7",
   "metadata": {},
   "outputs": [
    {
     "name": "stdout",
     "output_type": "stream",
     "text": [
      "    A   B   C\n",
      "0  13  12   4\n",
      "1   4  12  12\n",
      "2  10   6   9\n",
      "3   5  12   4\n",
      "Row wise sum:\n",
      " 0    29\n",
      "1    28\n",
      "2    25\n",
      "3    21\n",
      "dtype: int64\n",
      "Column wise sum:\n",
      " A    32\n",
      "B    42\n",
      "C    29\n",
      "dtype: int64\n"
     ]
    }
   ],
   "source": [
    "df=pd.DataFrame(np.random.randint(1,15,size=(4,3)),columns=['A','B','C'])\n",
    "print(df)\n",
    "\n",
    "row_wise=df.sum(axis=1)\n",
    "print(f\"Row wise sum:\\n\",row_wise)\n",
    "column_wise=df.sum(axis=0)\n",
    "print(f\"Column wise sum:\\n\",column_wise)"
   ]
  },
  {
   "cell_type": "markdown",
   "id": "ac1804e2",
   "metadata": {},
   "source": [
    "\n",
    "### Assignment 3: Data Cleaning\n",
    "\n",
    "1. Create a Pandas DataFrame with 3 columns and 5 rows filled with random integers. Introduce some NaN values. Fill the NaN values with the mean of the respective columns.\n"
   ]
  },
  {
   "cell_type": "code",
   "execution_count": 7,
   "id": "1a0a3688",
   "metadata": {},
   "outputs": [
    {
     "name": "stdout",
     "output_type": "stream",
     "text": [
      "    A   B   C\n",
      "0  11   9   6\n",
      "1   4   9  11\n",
      "2   1  11   7\n",
      "3   2  12   2\n",
      "4   6  11   4\n",
      "     A     B     C\n",
      "0  NaN   9.0   6.0\n",
      "1  4.0   9.0  11.0\n",
      "2  1.0  11.0   NaN\n",
      "3  2.0   NaN   2.0\n",
      "4  6.0  11.0   4.0\n",
      "      A     B      C\n",
      "0  3.25   9.0   6.00\n",
      "1  4.00   9.0  11.00\n",
      "2  1.00  11.0   5.75\n",
      "3  2.00  10.0   2.00\n",
      "4  6.00  11.0   4.00\n"
     ]
    }
   ],
   "source": [
    "df=pd.DataFrame(np.random.randint(1,15,size=(5,3)),columns=['A','B','C'])\n",
    "print(df)\n",
    "\n",
    "df.iloc[0,0]=np.nan\n",
    "df.iloc[2,2]=np.nan\n",
    "df.iloc[3,1]=np.nan\n",
    "print(df)\n",
    "\n",
    "df.fillna(df.mean(),inplace=True)\n",
    "print(df)\n"
   ]
  },
  {
   "cell_type": "markdown",
   "id": "c419a4a1",
   "metadata": {},
   "source": [
    "2. Create a Pandas DataFrame with 4 columns and 6 rows filled with random integers. Introduce some NaN values. Drop the rows with any NaN values.\n"
   ]
  },
  {
   "cell_type": "code",
   "execution_count": 8,
   "id": "078392ff",
   "metadata": {},
   "outputs": [
    {
     "name": "stdout",
     "output_type": "stream",
     "text": [
      "    A   B   C   D\n",
      "0   7  10   9   4\n",
      "1  10   4   5  17\n",
      "2  17   4  15  17\n",
      "3  10   4   3  17\n",
      "4   5  16  16  10\n",
      "5  12  10  10  11\n",
      "    A   B     C     D\n",
      "0   7  10   9.0   4.0\n",
      "1  10   4   5.0  17.0\n",
      "2  17   4  15.0   NaN\n",
      "3  10   4   3.0  17.0\n",
      "4   5  16   NaN  10.0\n",
      "5  12  10  10.0  11.0\n"
     ]
    },
    {
     "data": {
      "text/html": [
       "<div>\n",
       "<style scoped>\n",
       "    .dataframe tbody tr th:only-of-type {\n",
       "        vertical-align: middle;\n",
       "    }\n",
       "\n",
       "    .dataframe tbody tr th {\n",
       "        vertical-align: top;\n",
       "    }\n",
       "\n",
       "    .dataframe thead th {\n",
       "        text-align: right;\n",
       "    }\n",
       "</style>\n",
       "<table border=\"1\" class=\"dataframe\">\n",
       "  <thead>\n",
       "    <tr style=\"text-align: right;\">\n",
       "      <th></th>\n",
       "      <th>A</th>\n",
       "      <th>B</th>\n",
       "      <th>C</th>\n",
       "      <th>D</th>\n",
       "    </tr>\n",
       "  </thead>\n",
       "  <tbody>\n",
       "    <tr>\n",
       "      <th>0</th>\n",
       "      <td>7</td>\n",
       "      <td>10</td>\n",
       "      <td>9.0</td>\n",
       "      <td>4.0</td>\n",
       "    </tr>\n",
       "    <tr>\n",
       "      <th>1</th>\n",
       "      <td>10</td>\n",
       "      <td>4</td>\n",
       "      <td>5.0</td>\n",
       "      <td>17.0</td>\n",
       "    </tr>\n",
       "    <tr>\n",
       "      <th>3</th>\n",
       "      <td>10</td>\n",
       "      <td>4</td>\n",
       "      <td>3.0</td>\n",
       "      <td>17.0</td>\n",
       "    </tr>\n",
       "    <tr>\n",
       "      <th>5</th>\n",
       "      <td>12</td>\n",
       "      <td>10</td>\n",
       "      <td>10.0</td>\n",
       "      <td>11.0</td>\n",
       "    </tr>\n",
       "  </tbody>\n",
       "</table>\n",
       "</div>"
      ],
      "text/plain": [
       "    A   B     C     D\n",
       "0   7  10   9.0   4.0\n",
       "1  10   4   5.0  17.0\n",
       "3  10   4   3.0  17.0\n",
       "5  12  10  10.0  11.0"
      ]
     },
     "execution_count": 8,
     "metadata": {},
     "output_type": "execute_result"
    }
   ],
   "source": [
    "df=pd.DataFrame(np.random.randint(1,20,size=(6,4)),columns=['A','B','C','D'])\n",
    "print(df)\n",
    "\n",
    "df.iloc[2,3]=np.nan\n",
    "df.iloc[4,2]=np.nan\n",
    "print(df)\n",
    "\n",
    "df.dropna()\n"
   ]
  },
  {
   "cell_type": "markdown",
   "id": "d77d1fcb",
   "metadata": {},
   "source": [
    "\n",
    "### Assignment 4: Data Aggregation\n",
    "\n",
    "1. Create a Pandas DataFrame with 2 columns: 'Category' and 'Value'. Fill the 'Category' column with random categories ('A', 'B', 'C') and the 'Value' column with random integers. Group the DataFrame by 'Category' and compute the sum and mean of 'Value' for each category.\n"
   ]
  },
  {
   "cell_type": "code",
   "execution_count": 9,
   "id": "f42bd182",
   "metadata": {},
   "outputs": [
    {
     "name": "stdout",
     "output_type": "stream",
     "text": [
      "DataFrame:\n",
      "   Category  Value\n",
      "0        C      9\n",
      "1        B      3\n",
      "2        C      4\n",
      "3        B      6\n",
      "4        B      5\n",
      "5        A      2\n",
      "6        A      2\n",
      "7        C      2\n",
      "8        A      4\n",
      "9        C      7\n",
      "              mean  sum\n",
      "Category               \n",
      "A         2.666667    8\n",
      "B         4.666667   14\n",
      "C         5.500000   22\n"
     ]
    }
   ],
   "source": [
    "df=pd.DataFrame({'Category':np.random.choice(['A','B','C'],size=10),'Value':np.random.randint(1,10,size=10)})\n",
    "print(f\"DataFrame:\\n\",df)\n",
    "\n",
    "aggg=df.groupby(\"Category\")[\"Value\"].agg(['mean','sum'])\n",
    "print(aggg)\n"
   ]
  },
  {
   "cell_type": "markdown",
   "id": "041fd337",
   "metadata": {},
   "source": [
    "2. Create a Pandas DataFrame with 3 columns: 'Product', 'Category', and 'Sales'. Fill the DataFrame with random data. Group the DataFrame by 'Category' and compute the total sales for each category.\n"
   ]
  },
  {
   "cell_type": "code",
   "execution_count": 10,
   "id": "1ec25e15",
   "metadata": {},
   "outputs": [
    {
     "name": "stdout",
     "output_type": "stream",
     "text": [
      "Data:\n",
      "      Product Category  Sales\n",
      "0   Product3        A    377\n",
      "1   Product2        B    504\n",
      "2   Product2        B    325\n",
      "3   Product3        A    414\n",
      "4   Product3        A    543\n",
      "5   Product3        A     53\n",
      "6   Product1        B    771\n",
      "7   Product1        B    761\n",
      "8   Product3        B    576\n",
      "9   Product3        A    719\n",
      "10  Product2        A    586\n",
      "11  Product1        B    961\n",
      "12  Product1        A    953\n",
      "13  Product2        B    438\n",
      "14  Product2        A     83\n",
      "\n",
      "Total sales of products category wise:\n",
      " Product   Category\n",
      "Product1  A            953\n",
      "          B           2493\n",
      "Product2  A            669\n",
      "          B           1267\n",
      "Product3  A           2106\n",
      "          B            576\n",
      "Name: Sales, dtype: int32\n"
     ]
    }
   ],
   "source": [
    "sale_data=pd.DataFrame({'Product':np.random.choice(['Product1','Product2','Product3'],size=15),\n",
    "                   'Category':np.random.choice(['A','B'],size=15),\n",
    "                   'Sales':np.random.randint(50,1000,size=15)})\n",
    "print(f\"Data:\\n\",sale_data)\n",
    "\n",
    "total_sale=sale_data.groupby(['Product','Category'])['Sales'].sum()\n",
    "print(f\"\\nTotal sales of products category wise:\\n\",total_sale)"
   ]
  },
  {
   "cell_type": "markdown",
   "id": "dec3881d",
   "metadata": {},
   "source": [
    "\n",
    "### Assignment 5: Merging DataFrames\n",
    "\n",
    "1. Create two Pandas DataFrames with a common column. Merge the DataFrames using the common column.\n"
   ]
  },
  {
   "cell_type": "code",
   "execution_count": 11,
   "id": "4b1a8a5d",
   "metadata": {},
   "outputs": [
    {
     "name": "stdout",
     "output_type": "stream",
     "text": [
      "   X  y\n",
      "0  A  8\n",
      "1  B  3\n",
      "2  C  3\n",
      "3  D  5\n",
      "   X  z\n",
      "0  A  8\n",
      "1  B  8\n",
      "2  C  1\n",
      "3  D  4\n"
     ]
    },
    {
     "data": {
      "text/html": [
       "<div>\n",
       "<style scoped>\n",
       "    .dataframe tbody tr th:only-of-type {\n",
       "        vertical-align: middle;\n",
       "    }\n",
       "\n",
       "    .dataframe tbody tr th {\n",
       "        vertical-align: top;\n",
       "    }\n",
       "\n",
       "    .dataframe thead th {\n",
       "        text-align: right;\n",
       "    }\n",
       "</style>\n",
       "<table border=\"1\" class=\"dataframe\">\n",
       "  <thead>\n",
       "    <tr style=\"text-align: right;\">\n",
       "      <th></th>\n",
       "      <th>X</th>\n",
       "      <th>y</th>\n",
       "      <th>z</th>\n",
       "    </tr>\n",
       "  </thead>\n",
       "  <tbody>\n",
       "    <tr>\n",
       "      <th>0</th>\n",
       "      <td>A</td>\n",
       "      <td>8</td>\n",
       "      <td>8</td>\n",
       "    </tr>\n",
       "    <tr>\n",
       "      <th>1</th>\n",
       "      <td>B</td>\n",
       "      <td>3</td>\n",
       "      <td>8</td>\n",
       "    </tr>\n",
       "    <tr>\n",
       "      <th>2</th>\n",
       "      <td>C</td>\n",
       "      <td>3</td>\n",
       "      <td>1</td>\n",
       "    </tr>\n",
       "    <tr>\n",
       "      <th>3</th>\n",
       "      <td>D</td>\n",
       "      <td>5</td>\n",
       "      <td>4</td>\n",
       "    </tr>\n",
       "  </tbody>\n",
       "</table>\n",
       "</div>"
      ],
      "text/plain": [
       "   X  y  z\n",
       "0  A  8  8\n",
       "1  B  3  8\n",
       "2  C  3  1\n",
       "3  D  5  4"
      ]
     },
     "execution_count": 11,
     "metadata": {},
     "output_type": "execute_result"
    }
   ],
   "source": [
    "df1=pd.DataFrame({'X':['A','B','C','D'],'y':np.random.randint(1,10,size=4)})\n",
    "print(df1)\n",
    "df2=pd.DataFrame({'X':['A','B','C','D'],'z':np.random.randint(1,10,size=4)})\n",
    "print(df2)\n",
    "pd.merge(df1,df2,on='X')"
   ]
  },
  {
   "cell_type": "markdown",
   "id": "e0dea044",
   "metadata": {},
   "source": [
    "2. Create two Pandas DataFrames with different columns. Concatenate the DataFrames along the rows and along the columns.\n"
   ]
  },
  {
   "cell_type": "code",
   "execution_count": 12,
   "id": "6a7e268e",
   "metadata": {},
   "outputs": [
    {
     "name": "stdout",
     "output_type": "stream",
     "text": [
      "   a  b\n",
      "0  4  9\n",
      "1  5  4\n",
      "2  1  3\n",
      "3  9  3\n",
      "   c  d\n",
      "0  7  5\n",
      "1  6  6\n",
      "2  7  1\n",
      "3  7  5\n",
      "     a    b    c    d\n",
      "0  4.0  9.0  NaN  NaN\n",
      "1  5.0  4.0  NaN  NaN\n",
      "2  1.0  3.0  NaN  NaN\n",
      "3  9.0  3.0  NaN  NaN\n",
      "0  NaN  NaN  7.0  5.0\n",
      "1  NaN  NaN  6.0  6.0\n",
      "2  NaN  NaN  7.0  1.0\n",
      "3  NaN  NaN  7.0  5.0\n",
      "   a  b  c  d\n",
      "0  4  9  7  5\n",
      "1  5  4  6  6\n",
      "2  1  3  7  1\n",
      "3  9  3  7  5\n"
     ]
    }
   ],
   "source": [
    "df1=pd.DataFrame({'a':np.random.randint(1,10,size=4),'b':np.random.randint(1,10,size=4)})\n",
    "print(df1)\n",
    "df2=pd.DataFrame({'c':np.random.randint(1,10,size=4),'d':np.random.randint(1,10,size=4)})\n",
    "print(df2)\n",
    "rows=pd.concat([df1,df2],axis=0)\n",
    "print(rows)\n",
    "columns=pd.concat([df1,df2],axis=1)\n",
    "print(columns)"
   ]
  },
  {
   "cell_type": "markdown",
   "id": "ae2f4385",
   "metadata": {},
   "source": [
    "\n",
    "### Assignment 6: Time Series Analysis\n",
    "\n",
    "1. Create a Pandas DataFrame with a datetime index and one column filled with random integers. Resample the DataFrame to compute the monthly mean of the values.\n"
   ]
  },
  {
   "cell_type": "code",
   "execution_count": 13,
   "id": "dc90c369",
   "metadata": {},
   "outputs": [
    {
     "name": "stdout",
     "output_type": "stream",
     "text": [
      "            Total Earned\n",
      "2024-01-01          4486\n",
      "2024-01-02          1750\n",
      "2024-01-03          8190\n",
      "2024-01-04          7652\n",
      "2024-01-05          3786\n",
      "...                  ...\n",
      "2024-12-27          1727\n",
      "2024-12-28          2718\n",
      "2024-12-29          7129\n",
      "2024-12-30          9157\n",
      "2024-12-31          4278\n",
      "\n",
      "[366 rows x 1 columns]\n",
      "Monthly mean:\n",
      "             Total Earned\n",
      "2024-01-31   5904.000000\n",
      "2024-02-29   5772.275862\n",
      "2024-03-31   6356.903226\n",
      "2024-04-30   6151.666667\n",
      "2024-05-31   5708.677419\n",
      "2024-06-30   4992.633333\n",
      "2024-07-31   4636.935484\n",
      "2024-08-31   5522.064516\n",
      "2024-09-30   4657.933333\n",
      "2024-10-31   5323.387097\n",
      "2024-11-30   6146.000000\n",
      "2024-12-31   5656.258065\n"
     ]
    },
    {
     "name": "stderr",
     "output_type": "stream",
     "text": [
      "C:\\Users\\Dell\\AppData\\Local\\Temp\\ipykernel_10912\\255583427.py:7: FutureWarning: 'M' is deprecated and will be removed in a future version, please use 'ME' instead.\n",
      "  month_mean=original.resample('M').mean()\n"
     ]
    }
   ],
   "source": [
    "day_by_day=pd.date_range(start='2024-01-01',end='2024-12-31',freq='D')\n",
    "original=pd.DataFrame(day_by_day,columns=['Total Earned'])\n",
    "original['Total Earned']=(np.random.randint(1000,10000,size=len(day_by_day)))\n",
    "original.set_index(day_by_day,inplace=True)\n",
    "print(original)\n",
    "\n",
    "month_mean=original.resample('M').mean()\n",
    "print(f\"Monthly mean:\\n\",month_mean)"
   ]
  },
  {
   "cell_type": "markdown",
   "id": "b39869ab",
   "metadata": {},
   "source": [
    "2. Create a Pandas DataFrame with a datetime index ranging from '2021-01-01' to '2021-12-31' and one column filled with random integers. Compute the rolling mean with a window of 7 days.\n"
   ]
  },
  {
   "cell_type": "code",
   "execution_count": 14,
   "id": "23b7d40c",
   "metadata": {},
   "outputs": [
    {
     "name": "stdout",
     "output_type": "stream",
     "text": [
      "            Amount\n",
      "2021-01-01     877\n",
      "2021-01-02     596\n",
      "2021-01-03     751\n",
      "2021-01-04     551\n",
      "2021-01-05     851\n",
      "...            ...\n",
      "2021-12-27     976\n",
      "2021-12-28     535\n",
      "2021-12-29     709\n",
      "2021-12-30     699\n",
      "2021-12-31     618\n",
      "\n",
      "[365 rows x 1 columns]\n",
      "Rolling mean:\n",
      "\n",
      "                Amount\n",
      "2021-01-01         NaN\n",
      "2021-01-02         NaN\n",
      "2021-01-03         NaN\n",
      "2021-01-04         NaN\n",
      "2021-01-05         NaN\n",
      "...                ...\n",
      "2021-12-27  812.857143\n",
      "2021-12-28  776.571429\n",
      "2021-12-29  788.142857\n",
      "2021-12-30  750.857143\n",
      "2021-12-31  721.428571\n",
      "\n",
      "[365 rows x 1 columns]\n"
     ]
    }
   ],
   "source": [
    "day_by_day=pd.date_range(start='2021-01-01',end='2021-12-31',freq='D')\n",
    "actual=pd.DataFrame(day_by_day,columns=['Amount'])\n",
    "actual.set_index(day_by_day,inplace=True)\n",
    "actual['Amount']=np.random.randint(500,1000,size=len(day_by_day))\n",
    "print(actual)\n",
    "\n",
    "rolling_mean=actual.rolling(window=7).mean()\n",
    "print(\"Rolling mean:\\n\")\n",
    "print(rolling_mean)"
   ]
  },
  {
   "cell_type": "markdown",
   "id": "7b8a9a43",
   "metadata": {},
   "source": [
    "\n",
    "### Assignment 7: MultiIndex DataFrame\n",
    "\n",
    "1. Create a Pandas DataFrame with a MultiIndex (hierarchical index). Perform some basic indexing and slicing operations on the MultiIndex DataFrame.\n",
    "2. Create a Pandas DataFrame with MultiIndex consisting of 'Category' and 'SubCategory'. Fill the DataFrame with random data and compute the sum of values for each 'Category' and 'SubCategory'.\n",
    "\n",
    "### Assignment 8: Pivot Tables\n",
    "\n",
    "1. Create a Pandas DataFrame with columns 'Date', 'Category', and 'Value'. Create a pivot table to compute the sum of 'Value' for each 'Category' by 'Date'.\n",
    "2. Create a Pandas DataFrame with columns 'Year', 'Quarter', and 'Revenue'. Create a pivot table to compute the mean 'Revenue' for each 'Quarter' by 'Year'.\n",
    "\n",
    "### Assignment 9: Applying Functions\n",
    "\n",
    "1. Create a Pandas DataFrame with 3 columns and 5 rows filled with random integers. Apply a function that doubles the values of the DataFrame.\n",
    "2. Create a Pandas DataFrame with 3 columns and 6 rows filled with random integers. Apply a lambda function to create a new column that is the sum of the existing columns.\n",
    "\n",
    "### Assignment 10: Working with Text Data\n",
    "\n",
    "1. Create a Pandas Series with 5 random text strings. Convert all the strings to uppercase.\n",
    "2. Create a Pandas Series with 5 random text strings. Extract the first three characters of each string.\n"
   ]
  },
  {
   "cell_type": "code",
   "execution_count": null,
   "metadata": {},
   "outputs": [],
   "source": []
  }
 ],
 "metadata": {
  "kernelspec": {
   "display_name": "Python 3",
   "language": "python",
   "name": "python3"
  },
  "language_info": {
   "codemirror_mode": {
    "name": "ipython",
    "version": 3
   },
   "file_extension": ".py",
   "mimetype": "text/x-python",
   "name": "python",
   "nbconvert_exporter": "python",
   "pygments_lexer": "ipython3",
   "version": "3.12.4"
  }
 },
 "nbformat": 4,
 "nbformat_minor": 5
}
